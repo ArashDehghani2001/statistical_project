{
 "cells": [
  {
   "cell_type": "code",
   "execution_count": 1,
   "metadata": {},
   "outputs": [],
   "source": [
    "import numpy as np\n",
    "import networkx as nx\n",
    "import matplotlib.pyplot as plt"
   ]
  },
  {
   "cell_type": "code",
   "execution_count": null,
   "metadata": {},
   "outputs": [],
   "source": [
    "# 6\n",
    "\n",
    "n = 1000\n",
    "p = 0.0033\n",
    "g = nx.fast_gnp_random_graph(n, p)\n",
    "\n",
    "averages = []\n",
    "for person in g.nodes:\n",
    "    if g.degree[person] != 0:\n",
    "        total = 0\n",
    "        num_of_paths = 0\n",
    "        for node in g.nodes:\n",
    "            if nx.algorithms.shortest_paths.has_path(g, person, node) and person != node:\n",
    "                    total += nx.algorithms.shortest_paths.generic.shortest_path_length(g, person, node)\n",
    "                    num_of_paths += 1\n",
    "        averages.append(total/num_of_paths)\n",
    "              \n",
    "print(\"average distance => {}\".format(np.mean(averages)))\n"
   ]
  },
  {
   "cell_type": "code",
   "execution_count": 2,
   "metadata": {},
   "outputs": [
    {
     "name": "stdout",
     "output_type": "stream",
     "text": [
      "mean of max distance => 2.79\n"
     ]
    }
   ],
   "source": [
    "#7\n",
    "#function to find max distance in graph\n",
    "def max_distance(g):\n",
    "    mx = 0\n",
    "    nodes = list(g.nodes)\n",
    "    length = len(nodes)\n",
    "    for i in range(length):\n",
    "        for j in range(i+1, length):\n",
    "            if nx.has_path(g, nodes[i], nodes[j]):\n",
    "                tmp = nx.shortest_path_length(g, nodes[i], nodes[j])\n",
    "                if tmp > mx:\n",
    "                    mx = tmp\n",
    "    return mx\n",
    "\n",
    "\n",
    "#main code\n",
    "n = 50\n",
    "p = 0.34\n",
    "graphs = []\n",
    "for i in range(100):\n",
    "    graphs.append(nx.fast_gnp_random_graph(n,p))\n",
    "maxes = []\n",
    "for g in graphs:\n",
    "    max = max_distance(g)\n",
    "    maxes.append(max)\n",
    "    \n",
    "print(\"mean of max distance => {}\".format(np.mean(maxes)))"
   ]
  },
  {
   "cell_type": "code",
   "execution_count": null,
   "metadata": {},
   "outputs": [],
   "source": [
    "#8\n",
    "\n",
    "ns = [int(i) for i in np.linspace(10,200,20)]\n",
    "p = 0.34\n",
    "y = []\n",
    "for n in ns:\n",
    "    graphs = []\n",
    "    for i in range(100):\n",
    "        graphs.append(nx.fast_gnp_random_graph(n,p))\n",
    "    diameters = []\n",
    "    for g in graphs:\n",
    "        diameter = 0\n",
    "        subgraphs = [g.subgraph(c) for c in nx.connected_components(g)]\n",
    "        for sg in subgraphs:\n",
    "            temp = nx.algorithms.distance_measures.diameter(sg)\n",
    "            if temp > diameter:\n",
    "                diameter = temp\n",
    "        diameters.append(diameter)\n",
    "    y.append(sum(diameters)/100)\n",
    "\n",
    "plt.figure()\n",
    "plt.plot(ns,y)\n",
    "plt.show()"
   ]
  },
  {
   "cell_type": "code",
   "execution_count": null,
   "metadata": {},
   "outputs": [],
   "source": []
  }
 ],
 "metadata": {
  "kernelspec": {
   "display_name": "Python 3",
   "language": "python",
   "name": "python3"
  },
  "language_info": {
   "codemirror_mode": {
    "name": "ipython",
    "version": 3
   },
   "file_extension": ".py",
   "mimetype": "text/x-python",
   "name": "python",
   "nbconvert_exporter": "python",
   "pygments_lexer": "ipython3",
   "version": "3.8.3"
  }
 },
 "nbformat": 4,
 "nbformat_minor": 4
}
