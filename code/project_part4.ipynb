{
 "cells": [
  {
   "cell_type": "code",
   "execution_count": 2,
   "metadata": {},
   "outputs": [],
   "source": [
    "import numpy as np\n",
    "import networkx as nx\n",
    "import matplotlib.pyplot as plt\n",
    "\n",
    "#3\n",
    "\n",
    "#making graphs\n",
    "n = 3000\n",
    "p = 0.01\n",
    "graphs = []\n",
    "for i in range(5):\n",
    "    graphs.append(nx.fast_gnp_random_graph(n,p))"
   ]
  },
  {
   "cell_type": "code",
   "execution_count": 4,
   "metadata": {},
   "outputs": [
    {
     "name": "stdout",
     "output_type": "stream",
     "text": [
      "mean of triangles => 4486.2\n"
     ]
    }
   ],
   "source": [
    "#finding triangles\n",
    "sum_triangles = 0\n",
    "for g in graphs:\n",
    "    triangles = nx.triangles(g)\n",
    "    t =  sum(triangles.values())/3    #sum of all nodes triangles divided by 3\n",
    "    sum_triangles += t\n",
    "print(\"mean of triangles => {}\".format(sum_triangles/5))"
   ]
  },
  {
   "cell_type": "code",
   "execution_count": 5,
   "metadata": {},
   "outputs": [],
   "source": [
    "#check connections\n",
    "def nodes_connected(g,x,y):\n",
    "    return x in g.neighbors(y)\n",
    "\n",
    "#function to find competitons\n",
    "\n",
    "def number_of_competiions(g):\n",
    "    competitions = 0\n",
    "    for node in g.nodes:\n",
    "        friends = list(g.neighbors(node))\n",
    "        length = sum(1 for _ in g.neighbors(node))\n",
    "        for i in range(length):\n",
    "            for j in range(i+1, length):\n",
    "                if(not nodes_connected(g,friends[i],friends[j])):\n",
    "                    competitions += 1\n",
    "    return competitions        "
   ]
  },
  {
   "cell_type": "code",
   "execution_count": 7,
   "metadata": {},
   "outputs": [
    {
     "name": "stdout",
     "output_type": "stream",
     "text": [
      "number of competitions is => 1325543.4 \n"
     ]
    }
   ],
   "source": [
    "#finding mean competitions for 5 graphs\n",
    "\n",
    "sum_competitions = 0\n",
    "for g in graphs:\n",
    "    sum_competitions += number_of_competiions(g)\n",
    "    \n",
    "print(\"number of competitions is => {} \".format(sum_competitions/5))"
   ]
  },
  {
   "cell_type": "code",
   "execution_count": 8,
   "metadata": {},
   "outputs": [],
   "source": [
    "#4\n",
    "\n",
    "#making graphs\n",
    "n = 2000\n",
    "p = 0.2\n",
    "graphs = []\n",
    "for i in range(5):\n",
    "    graphs.append(nx.fast_gnp_random_graph(n,p))\n",
    "\n"
   ]
  },
  {
   "cell_type": "code",
   "execution_count": 9,
   "metadata": {},
   "outputs": [
    {
     "name": "stdout",
     "output_type": "stream",
     "text": [
      "10618724.0\n",
      "10670824.0\n",
      "10642434.0\n",
      "10647436.0\n",
      "10611642.0\n",
      "mean of triangles => 10638212.0\n"
     ]
    }
   ],
   "source": [
    "#finding triangles\n",
    "triangles_arr = []\n",
    "\n",
    "for g in graphs:\n",
    "    triangles = nx.triangles(g)\n",
    "    triangles =  sum(triangles.values())/3    #sum of all nodes triangles divided by 3\n",
    "    triangles_arr.append(triangles) \n",
    "    print(triangles)\n",
    "print(\"mean of triangles => {}\".format(np.mean(triangles_arr)))"
   ]
  },
  {
   "cell_type": "code",
   "execution_count": 11,
   "metadata": {},
   "outputs": [
    {
     "name": "stdout",
     "output_type": "stream",
     "text": [
      "number of competitions is => 127742071.4 \n"
     ]
    }
   ],
   "source": [
    "#finding mean competitions for 5 graphs\n",
    "sum_paths = 0\n",
    "sum_competitions = 0\n",
    "i= 0\n",
    "for g in graphs:\n",
    "    sum_paths = 0\n",
    "    for node in g.nodes:\n",
    "        degree = g.degree(node)\n",
    "        paths = degree * (degree - 1)/2\n",
    "        sum_paths += paths\n",
    "    competitions = sum_paths - triangles_arr[i] * 3 #every triangle path is counted 3 times\n",
    "\n",
    "    sum_competitions += competitions\n",
    "    i+=1\n",
    " \n",
    "print(\"number of competitions is => {} \".format(sum_competitions/5))"
   ]
  },
  {
   "cell_type": "code",
   "execution_count": 14,
   "metadata": {},
   "outputs": [
    {
     "name": "stdout",
     "output_type": "stream",
     "text": [
      "mean of friendships => 0.012\n"
     ]
    }
   ],
   "source": [
    "n = 1000\n",
    "p = 0.003\n",
    "g = nx.fast_gnp_random_graph(n, p)\n",
    "totals = []\n",
    "for person in g.nodes:\n",
    "    total = 0\n",
    "    friends = list(g.neighbors(person))\n",
    "    degree = g.degree[person]\n",
    "    for i in range(degree):\n",
    "        for j in range(i+1, degree):\n",
    "            if nodes_connected(g,friends[i], friends[j]):\n",
    "                total += 1\n",
    "    totals.append(total)\n",
    "print(\"mean of friendships => {}\".format(sum(totals)/n))"
   ]
  },
  {
   "cell_type": "code",
   "execution_count": null,
   "metadata": {},
   "outputs": [],
   "source": []
  }
 ],
 "metadata": {
  "kernelspec": {
   "display_name": "Python 3",
   "language": "python",
   "name": "python3"
  },
  "language_info": {
   "codemirror_mode": {
    "name": "ipython",
    "version": 3
   },
   "file_extension": ".py",
   "mimetype": "text/x-python",
   "name": "python",
   "nbconvert_exporter": "python",
   "pygments_lexer": "ipython3",
   "version": "3.8.3"
  }
 },
 "nbformat": 4,
 "nbformat_minor": 4
}
