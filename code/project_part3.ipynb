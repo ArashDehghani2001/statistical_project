{
 "cells": [
  {
   "cell_type": "code",
   "execution_count": 1,
   "metadata": {},
   "outputs": [],
   "source": [
    "import numpy as np\n",
    "import networkx as nx\n",
    "import matplotlib.pyplot as plt\n",
    "\n",
    "\n",
    "#2\n",
    "\n",
    "\n",
    "n = 1000\n",
    "p = 0.00016\n",
    "# making graphs\n",
    "graphs = []\n",
    "mean_edges = []\n",
    "for i in range(0,10):\n",
    "    M = nx.fast_gnp_random_graph(n,p) \n",
    "    graphs.append(M)"
   ]
  },
  {
   "cell_type": "code",
   "execution_count": 4,
   "metadata": {},
   "outputs": [
    {
     "name": "stdout",
     "output_type": "stream",
     "text": [
      "mean of social = 148.4\n"
     ]
    }
   ],
   "source": [
    "sum_social = 0\n",
    "for M in graphs: \n",
    "    social = 0\n",
    "    # getting degrees in an array\n",
    "    degrees = [val for (node,val) in M.degree()]\n",
    "    L = sum(degrees)/n #mean of friendships\n",
    "    #check being social\n",
    "    for d in degrees:\n",
    "        if(d > L):\n",
    "            social+=1\n",
    "    sum_social += social\n",
    "print(\"mean of social = {}\".format(sum_social/10))"
   ]
  },
  {
   "cell_type": "code",
   "execution_count": 5,
   "metadata": {},
   "outputs": [
    {
     "data": {
      "image/png": "[encoded data removed]",
      "text/plain": [
       "<Figure size 432x288 with 1 Axes>"
      ]
     },
     "metadata": {
      "needs_background": "light"
     },
     "output_type": "display_data"
    }
   ],
   "source": [
    "for g in graphs:\n",
    "    maxes = []\n",
    "    degrees = [val for (node, val) in g.degree()]\n",
    "    maxes.append(max(degrees))\n",
    "mx = max(maxes)\n",
    "y = np.zeros(mx)\n",
    "for g in graphs:\n",
    "    for i in range(mx):\n",
    "        y[i] += degrees.count(i) # counts how many people have i friends\n",
    "y = y/10\n",
    "x = np.arange(mx)\n",
    "plt.figure()\n",
    "plt.scatter(x,y)\n",
    "plt.show()"
   ]
  },
  {
   "cell_type": "code",
   "execution_count": null,
   "metadata": {},
   "outputs": [],
   "source": []
  }
 ],
 "metadata": {
  "kernelspec": {
   "display_name": "Python 3",
   "language": "python",
   "name": "python3"
  },
  "language_info": {
   "codemirror_mode": {
    "name": "ipython",
    "version": 3
   },
   "file_extension": ".py",
   "mimetype": "text/x-python",
   "name": "python",
   "nbconvert_exporter": "python",
   "pygments_lexer": "ipython3",
   "version": "3.8.3"
  }
 },
 "nbformat": 4,
 "nbformat_minor": 4
}
